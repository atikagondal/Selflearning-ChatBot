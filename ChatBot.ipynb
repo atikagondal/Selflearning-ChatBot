{
 "cells": [
  {
   "cell_type": "code",
   "execution_count": 14,
   "metadata": {},
   "outputs": [],
   "source": [
    "#Description o: This is a 'self learning' chatbot program"
   ]
  },
  {
   "cell_type": "code",
   "execution_count": 15,
   "metadata": {},
   "outputs": [],
   "source": [
    "#install the package NLTK \n",
    "import nltk"
   ]
  },
  {
   "cell_type": "code",
   "execution_count": 16,
   "metadata": {},
   "outputs": [
    {
     "name": "stdout",
     "output_type": "stream",
     "text": [
      "Requirement already satisfied: newspaper3k in c:\\users\\atika\\miniconda3\\lib\\site-packages (0.2.8)Note: you may need to restart the kernel to use updated packages.\n",
      "\n",
      "Requirement already satisfied: lxml>=3.6.0 in c:\\users\\atika\\miniconda3\\lib\\site-packages (from newspaper3k) (4.5.0)\n",
      "Requirement already satisfied: beautifulsoup4>=4.4.1 in c:\\users\\atika\\miniconda3\\lib\\site-packages (from newspaper3k) (4.9.0)\n",
      "Requirement already satisfied: cssselect>=0.9.2 in c:\\users\\atika\\miniconda3\\lib\\site-packages (from newspaper3k) (1.1.0)\n",
      "Requirement already satisfied: requests>=2.10.0 in c:\\users\\atika\\miniconda3\\lib\\site-packages (from newspaper3k) (2.22.0)\n",
      "Requirement already satisfied: tldextract>=2.0.1 in c:\\users\\atika\\miniconda3\\lib\\site-packages (from newspaper3k) (2.2.2)\n",
      "Requirement already satisfied: PyYAML>=3.11 in c:\\users\\atika\\miniconda3\\lib\\site-packages (from newspaper3k) (5.3.1)\n",
      "Requirement already satisfied: nltk>=3.2.1 in c:\\users\\atika\\miniconda3\\lib\\site-packages (from newspaper3k) (3.5)\n",
      "Requirement already satisfied: feedparser>=5.2.1 in c:\\users\\atika\\miniconda3\\lib\\site-packages (from newspaper3k) (5.2.1)\n",
      "Requirement already satisfied: tinysegmenter==0.3 in c:\\users\\atika\\miniconda3\\lib\\site-packages (from newspaper3k) (0.3)\n",
      "Requirement already satisfied: Pillow>=3.3.0 in c:\\users\\atika\\miniconda3\\lib\\site-packages (from newspaper3k) (7.1.1)\n",
      "Requirement already satisfied: jieba3k>=0.35.1 in c:\\users\\atika\\miniconda3\\lib\\site-packages (from newspaper3k) (0.35.1)\n",
      "Requirement already satisfied: feedfinder2>=0.0.4 in c:\\users\\atika\\miniconda3\\lib\\site-packages (from newspaper3k) (0.0.4)\n",
      "Requirement already satisfied: python-dateutil>=2.5.3 in c:\\users\\atika\\miniconda3\\lib\\site-packages (from newspaper3k) (2.8.1)\n",
      "Requirement already satisfied: soupsieve>1.2 in c:\\users\\atika\\miniconda3\\lib\\site-packages (from beautifulsoup4>=4.4.1->newspaper3k) (2.0.1)\n",
      "Requirement already satisfied: certifi>=2017.4.17 in c:\\users\\atika\\miniconda3\\lib\\site-packages (from requests>=2.10.0->newspaper3k) (2020.4.5.1)\n",
      "Requirement already satisfied: idna<2.9,>=2.5 in c:\\users\\atika\\miniconda3\\lib\\site-packages (from requests>=2.10.0->newspaper3k) (2.8)\n",
      "Requirement already satisfied: chardet<3.1.0,>=3.0.2 in c:\\users\\atika\\miniconda3\\lib\\site-packages (from requests>=2.10.0->newspaper3k) (3.0.4)\n",
      "Requirement already satisfied: urllib3!=1.25.0,!=1.25.1,<1.26,>=1.21.1 in c:\\users\\atika\\miniconda3\\lib\\site-packages (from requests>=2.10.0->newspaper3k) (1.25.8)\n",
      "Requirement already satisfied: setuptools in c:\\users\\atika\\miniconda3\\lib\\site-packages (from tldextract>=2.0.1->newspaper3k) (45.2.0.post20200210)\n",
      "Requirement already satisfied: requests-file>=1.4 in c:\\users\\atika\\miniconda3\\lib\\site-packages (from tldextract>=2.0.1->newspaper3k) (1.5.1)\n",
      "Requirement already satisfied: click in c:\\users\\atika\\miniconda3\\lib\\site-packages (from nltk>=3.2.1->newspaper3k) (7.1.2)\n",
      "Requirement already satisfied: regex in c:\\users\\atika\\miniconda3\\lib\\site-packages (from nltk>=3.2.1->newspaper3k) (2020.5.14)\n",
      "Requirement already satisfied: joblib in c:\\users\\atika\\miniconda3\\lib\\site-packages (from nltk>=3.2.1->newspaper3k) (0.15.1)\n",
      "Requirement already satisfied: tqdm in c:\\users\\atika\\miniconda3\\lib\\site-packages (from nltk>=3.2.1->newspaper3k) (4.42.1)\n",
      "Requirement already satisfied: six in c:\\users\\atika\\miniconda3\\lib\\site-packages (from feedfinder2>=0.0.4->newspaper3k) (1.14.0)\n"
     ]
    }
   ],
   "source": [
    "pip install newspaper3k"
   ]
  },
  {
   "cell_type": "code",
   "execution_count": 17,
   "metadata": {},
   "outputs": [],
   "source": [
    "#import libraries \n",
    "from newspaper import Article \n",
    "import random \n",
    "import string \n",
    "from sklearn.feature_extraction.text import TfidfVectorizer \n",
    "from sklearn.metrics.pairwise import cosine_similarity\n",
    "import nltk\n",
    "import numpy as np\n",
    "import warnings"
   ]
  },
  {
   "cell_type": "code",
   "execution_count": 18,
   "metadata": {},
   "outputs": [],
   "source": [
    "#ignore any warning messages \n",
    "warnings.filterwarnings('ignore')"
   ]
  },
  {
   "cell_type": "code",
   "execution_count": 19,
   "metadata": {},
   "outputs": [
    {
     "name": "stderr",
     "output_type": "stream",
     "text": [
      "[nltk_data] Downloading package punkt to\n",
      "[nltk_data]     C:\\Users\\atika\\AppData\\Roaming\\nltk_data...\n",
      "[nltk_data]   Package punkt is already up-to-date!\n",
      "[nltk_data] Downloading package wordnet to\n",
      "[nltk_data]     C:\\Users\\atika\\AppData\\Roaming\\nltk_data...\n",
      "[nltk_data]   Package wordnet is already up-to-date!\n"
     ]
    },
    {
     "data": {
      "text/plain": [
       "True"
      ]
     },
     "execution_count": 19,
     "metadata": {},
     "output_type": "execute_result"
    }
   ],
   "source": [
    "#Download the packages from nltk \n",
    "nltk.download('punkt')\n",
    "nltk.download('wordnet')"
   ]
  },
  {
   "cell_type": "code",
   "execution_count": 20,
   "metadata": {},
   "outputs": [
    {
     "name": "stdout",
     "output_type": "stream",
     "text": [
      "Once the stuff of science fiction novels and futuristic movies, Artificial Intelligence (AI) is now very real to us. From business applications to everyday life, we are almost unaware that many of us interact with AI every day. Nearly 60 percent (57.9) of organizations with Big Data solutions are using AI in some way; it’s predicted that AI and machine learning will impact all segments of our daily lives by 2025 with huge implications for industries ranging from transport and logistics to healthcare, home maintenance, and customer service.\n",
      "\n",
      "With that dramatic increase in reliance on AI, massive investments are being made in both the technology and the skilled professionals needed to enable implementing and benefitting from the technology. According to Tractica, the market for enterprise AI will increase from $202.5 million in 2015 to $11.1 billion by 2024. Meaning, the need for professionals skilled in Artificial Intelligence exists in just about every field imaginable, which leads to a stable job outlook and high-paying salaries. According to Indeed.com, the average salary for a professional with an AI certification is $110k a year in the U.S. Growing adoption, increased demand for certified professionals, and substantial salaries make a move into AI a wise choice for someone interested in this career field.\n",
      "\n",
      "AI Interview Questions for Those Moving into the AI Domain\n",
      "\n",
      "Whether you’re considering a career move into the AI domain, or you’re already there and want to move up the career ladder, the future looks bright. However, there are also plenty of other professionals who will recognize the opportunities and move into the field. To position yourself for success as a job candidate who stands out from the crowd, you should be pursuing certifications in AI, as well as preparing ahead of time for crucial job AI interview questions.\n",
      "\n",
      "Once you’ve lined up a job interview with a potential employer, you’ll have an opportunity to study that particular organization and its use of AI. That can help you to prepare for specific Artificial Intelligence interview questions relevant to that employer. Until then, you can make for more general Artificial Intelligence interview questions by knowing how to demonstrate your broader knowledge of the implications and applications of AI. The 11 questions and answers below will help.\n",
      "\n",
      "Artificial Intelligence Career Guide A Guide to Becoming an AI Expert DOWNLOAD GUIDE\n",
      "\n",
      "1. What Are the Common Uses and Applications of AI?\n",
      "\n",
      "Your answer here should show that you recognize the far-reaching and practical applications of AI. Still, your answer is up to you because of your understanding of the AI field is what the interviewer is trying to ascertain. If possible, mention those uses most relevant to the potential employer. Possibilities include contract analysis, object detection, and classification for avoidance and navigation, image recognition, content distribution, predictive maintenance, data processing, automation of manual tasks, or data-driven reporting.\n",
      "\n",
      "2. What Are Intelligent Agents, and How Are They Used in AI?\n",
      "\n",
      "Intelligent agents are autonomous entities that use sensors to know what is going on, and then use actuators to perform their tasks or goals. They can be simple or complex and can be programmed to learn to accomplish their jobs better.\n",
      "\n",
      "3. What Is Tensorflow, and What Is It Used For?\n",
      "\n",
      "TensorFlow is an open-source software library initially developed by the Google Brain Team for use in machine learning and neural networks research. It is used for data-flow programming. TensorFlow makes it much easier to build certain AI features into applications, including natural language processing and speech recognition.\n",
      "\n",
      "4. What Is Machine Learning, and How Does It Relate to AI?\n",
      "\n",
      "Machine learning is a subset of AI. The idea is that machines will “learn” and get better at tasks over time rather than having humans continually having to input parameters. Machine learning is a practical application of AI.\n",
      "\n",
      "5. What Are Neural Networks, and How Do They Relate to AI?\n",
      "\n",
      "Neural networks are a class of machine learning algorithms. The neuron part of neural is the computational component, and the network part is how the neurons are connected. Neural networks pass data among themselves, gathering more and more meaning as the data moves along. Because the networks are interconnected, more complex data can be processed more efficiently.\n",
      "\n",
      "Master Deep Learning, Machine Learning, and other programming languages with the Artificial Intelligence Engineer Master’s Program.\n",
      "\n",
      "6. What Is Deep Learning, and How Does It Relate to AI?\n",
      "\n",
      "Deep learning is a subset of machine learning. It refers to using multi-layered neural networks to process data in increasingly sophisticated ways, enabling the software to train itself to perform tasks like speech and image recognition through exposure to these vast amounts of data for continual improvement in the ability to recognize and process information. Layers of neural networks stacked on top of each for use in deep learning are called deep neural networks.\n",
      "\n",
      "7. Why Is Image Recognition a Key Function of AI?\n",
      "\n",
      "Humans are visual, and AI is designed to emulate human brains. Therefore, teaching machines to recognize and categorize images is a crucial part of AI. Image recognition also helps machines to learn (as in machine learning) because the more images that are processed, the better the software gets at recognizing and processing those images.\n",
      "\n",
      "8. What Is Automatic Programming?\n",
      "\n",
      "Automatic programming is describing what a program should do, and then having the AI system “write” the program.\n",
      "\n",
      "9. What Is a Bayesian Network, and How Does It Relate to AI?\n",
      "\n",
      "A Bayesian network is a graphical model for probabilistic relationships among a set of variables. It mimics the human brain in processing variables.\n",
      "\n",
      "10. What Is Constraint Satisfaction Problems?\n",
      "\n",
      "Constraint Satisfaction Problems (CSPs) are mathematical problems defined as a set of objects, the state of which must meet several constraints. CSPs are useful for AI because the regularity of their formulation offers commonality for analyzing and solving problems.\n",
      "\n",
      "11. What Is Supervised Versus Unsupervised Learning?\n",
      "\n",
      "Supervised learning is a machine learning process in which outputs are fed back into a computer for the software to learn from, for more accurate results the next time. With supervised learning, the “machine” receives initial training to start. In contrast, unsupervised learning means a computer will learn without initial training to base its knowledge.\n",
      "\n",
      "Artificial Intelligence Engineer To Begin a Successful Career in AI View Course\n",
      "\n",
      "How to Ace AI Job Interviews\n",
      "\n",
      "Artificial intelligence learns, in part, using “if-then” rules, so if you’re not sure your AI education is at the level it should be before you start job hunting, then consider pursuing certification in AI or even a masters program that can prepare you for a career as an Artificial Intelligence Engineer. With the right program, learning can be done on your own time, yet provide you with plenty of hands-on experience you can talk about in your AI job interview.\n"
     ]
    }
   ],
   "source": [
    "#Get the article url\n",
    "article = Article('https://www.simplilearn.com/artificial-intelligence-ai-interview-questions-and-answers-article')\n",
    "article.download()\n",
    "article.parse()\n",
    "article.nlp()\n",
    "corpus = article.text\n",
    "\n",
    "#print the corpus/text\n",
    "print(corpus)"
   ]
  },
  {
   "cell_type": "code",
   "execution_count": 21,
   "metadata": {},
   "outputs": [
    {
     "name": "stdout",
     "output_type": "stream",
     "text": [
      "['Once the stuff of science fiction novels and futuristic movies, Artificial Intelligence (AI) is now very real to us.', 'From business applications to everyday life, we are almost unaware that many of us interact with AI every day.', 'Nearly 60 percent (57.9) of organizations with Big Data solutions are using AI in some way; it’s predicted that AI and machine learning will impact all segments of our daily lives by 2025 with huge implications for industries ranging from transport and logistics to healthcare, home maintenance, and customer service.', 'With that dramatic increase in reliance on AI, massive investments are being made in both the technology and the skilled professionals needed to enable implementing and benefitting from the technology.', 'According to Tractica, the market for enterprise AI will increase from $202.5 million in 2015 to $11.1 billion by 2024.', 'Meaning, the need for professionals skilled in Artificial Intelligence exists in just about every field imaginable, which leads to a stable job outlook and high-paying salaries.', 'According to Indeed.com, the average salary for a professional with an AI certification is $110k a year in the U.S.', 'Growing adoption, increased demand for certified professionals, and substantial salaries make a move into AI a wise choice for someone interested in this career field.', 'AI Interview Questions for Those Moving into the AI Domain\\n\\nWhether you’re considering a career move into the AI domain, or you’re already there and want to move up the career ladder, the future looks bright.', 'However, there are also plenty of other professionals who will recognize the opportunities and move into the field.', 'To position yourself for success as a job candidate who stands out from the crowd, you should be pursuing certifications in AI, as well as preparing ahead of time for crucial job AI interview questions.', 'Once you’ve lined up a job interview with a potential employer, you’ll have an opportunity to study that particular organization and its use of AI.', 'That can help you to prepare for specific Artificial Intelligence interview questions relevant to that employer.', 'Until then, you can make for more general Artificial Intelligence interview questions by knowing how to demonstrate your broader knowledge of the implications and applications of AI.', 'The 11 questions and answers below will help.', 'Artificial Intelligence Career Guide A Guide to Becoming an AI Expert DOWNLOAD GUIDE\\n\\n1.', 'What Are the Common Uses and Applications of AI?', 'Your answer here should show that you recognize the far-reaching and practical applications of AI.', 'Still, your answer is up to you because of your understanding of the AI field is what the interviewer is trying to ascertain.', 'If possible, mention those uses most relevant to the potential employer.', 'Possibilities include contract analysis, object detection, and classification for avoidance and navigation, image recognition, content distribution, predictive maintenance, data processing, automation of manual tasks, or data-driven reporting.', '2.', 'What Are Intelligent Agents, and How Are They Used in AI?', 'Intelligent agents are autonomous entities that use sensors to know what is going on, and then use actuators to perform their tasks or goals.', 'They can be simple or complex and can be programmed to learn to accomplish their jobs better.', '3.', 'What Is Tensorflow, and What Is It Used For?', 'TensorFlow is an open-source software library initially developed by the Google Brain Team for use in machine learning and neural networks research.', 'It is used for data-flow programming.', 'TensorFlow makes it much easier to build certain AI features into applications, including natural language processing and speech recognition.', '4.', 'What Is Machine Learning, and How Does It Relate to AI?', 'Machine learning is a subset of AI.', 'The idea is that machines will “learn” and get better at tasks over time rather than having humans continually having to input parameters.', 'Machine learning is a practical application of AI.', '5.', 'What Are Neural Networks, and How Do They Relate to AI?', 'Neural networks are a class of machine learning algorithms.', 'The neuron part of neural is the computational component, and the network part is how the neurons are connected.', 'Neural networks pass data among themselves, gathering more and more meaning as the data moves along.', 'Because the networks are interconnected, more complex data can be processed more efficiently.', 'Master Deep Learning, Machine Learning, and other programming languages with the Artificial Intelligence Engineer Master’s Program.', '6.', 'What Is Deep Learning, and How Does It Relate to AI?', 'Deep learning is a subset of machine learning.', 'It refers to using multi-layered neural networks to process data in increasingly sophisticated ways, enabling the software to train itself to perform tasks like speech and image recognition through exposure to these vast amounts of data for continual improvement in the ability to recognize and process information.', 'Layers of neural networks stacked on top of each for use in deep learning are called deep neural networks.', '7.', 'Why Is Image Recognition a Key Function of AI?', 'Humans are visual, and AI is designed to emulate human brains.', 'Therefore, teaching machines to recognize and categorize images is a crucial part of AI.', 'Image recognition also helps machines to learn (as in machine learning) because the more images that are processed, the better the software gets at recognizing and processing those images.', '8.', 'What Is Automatic Programming?', 'Automatic programming is describing what a program should do, and then having the AI system “write” the program.', '9.', 'What Is a Bayesian Network, and How Does It Relate to AI?', 'A Bayesian network is a graphical model for probabilistic relationships among a set of variables.', 'It mimics the human brain in processing variables.', '10.', 'What Is Constraint Satisfaction Problems?', 'Constraint Satisfaction Problems (CSPs) are mathematical problems defined as a set of objects, the state of which must meet several constraints.', 'CSPs are useful for AI because the regularity of their formulation offers commonality for analyzing and solving problems.', '11.', 'What Is Supervised Versus Unsupervised Learning?', 'Supervised learning is a machine learning process in which outputs are fed back into a computer for the software to learn from, for more accurate results the next time.', 'With supervised learning, the “machine” receives initial training to start.', 'In contrast, unsupervised learning means a computer will learn without initial training to base its knowledge.', 'Artificial Intelligence Engineer To Begin a Successful Career in AI View Course\\n\\nHow to Ace AI Job Interviews\\n\\nArtificial intelligence learns, in part, using “if-then” rules, so if you’re not sure your AI education is at the level it should be before you start job hunting, then consider pursuing certification in AI or even a masters program that can prepare you for a career as an Artificial Intelligence Engineer.', 'With the right program, learning can be done on your own time, yet provide you with plenty of hands-on experience you can talk about in your AI job interview.']\n"
     ]
    }
   ],
   "source": [
    "#tokenization \n",
    "text=corpus \n",
    "sent_tokens = nltk.sent_tokenize(text)  #Converts the txt into a sentence \n",
    "\n",
    "#print the list of the sentences \n",
    "print(sent_tokens)"
   ]
  },
  {
   "cell_type": "code",
   "execution_count": 22,
   "metadata": {},
   "outputs": [
    {
     "name": "stdout",
     "output_type": "stream",
     "text": [
      "!\"#$%&'()*+,-./:;<=>?@[\\]^_`{|}~\n",
      "{'!': None, '\"': None, '#': None, '$': None, '%': None, '&': None, \"'\": None, '(': None, ')': None, '*': None, '+': None, ',': None, '-': None, '.': None, '/': None, ':': None, ';': None, '<': None, '=': None, '>': None, '?': None, '@': None, '[': None, '\\\\': None, ']': None, '^': None, '_': None, '`': None, '{': None, '|': None, '}': None, '~': None}\n"
     ]
    }
   ],
   "source": [
    "#Create a dictionary to temove punctations \n",
    "remove_punct_dict= dict(       (punct,None) for punct in string.punctuation)\n",
    "\n",
    "#print the punctation\n",
    "print(string.punctuation)\n",
    "\n",
    "#print the dictionary\n",
    "print(remove_punct_dict)"
   ]
  },
  {
   "cell_type": "code",
   "execution_count": 23,
   "metadata": {},
   "outputs": [
    {
     "name": "stdout",
     "output_type": "stream",
     "text": [
      "['once', 'the', 'stuff', 'of', 'science', 'fiction', 'novels', 'and', 'futuristic', 'movies', ',', 'artificial', 'intelligence', '(', 'ai', ')', 'is', 'now', 'very', 'real', 'to', 'us', '.', 'from', 'business', 'applications', 'to', 'everyday', 'life', ',', 'we', 'are', 'almost', 'unaware', 'that', 'many', 'of', 'us', 'interact', 'with', 'ai', 'every', 'day', '.', 'nearly', '60', 'percent', '(', '57.9', ')', 'of', 'organizations', 'with', 'big', 'data', 'solutions', 'are', 'using', 'ai', 'in', 'some', 'way', ';', 'it', '’', 's', 'predicted', 'that', 'ai', 'and', 'machine', 'learning', 'will', 'impact', 'all', 'segments', 'of', 'our', 'daily', 'lives', 'by', '2025', 'with', 'huge', 'implications', 'for', 'industries', 'ranging', 'from', 'transport', 'and', 'logistics', 'to', 'healthcare', ',', 'home', 'maintenance', ',', 'and', 'customer', 'service', '.', 'with', 'that', 'dramatic', 'increase', 'in', 'reliance', 'on', 'ai', ',', 'massive', 'investments', 'are', 'being', 'made', 'in', 'both', 'the', 'technology', 'and', 'the', 'skilled', 'professionals', 'needed', 'to', 'enable', 'implementing', 'and', 'benefitting', 'from', 'the', 'technology', '.', 'according', 'to', 'tractica', ',', 'the', 'market', 'for', 'enterprise', 'ai', 'will', 'increase', 'from', '$', '202.5', 'million', 'in', '2015', 'to', '$', '11.1', 'billion', 'by', '2024.', 'meaning', ',', 'the', 'need', 'for', 'professionals', 'skilled', 'in', 'artificial', 'intelligence', 'exists', 'in', 'just', 'about', 'every', 'field', 'imaginable', ',', 'which', 'leads', 'to', 'a', 'stable', 'job', 'outlook', 'and', 'high-paying', 'salaries', '.', 'according', 'to', 'indeed.com', ',', 'the', 'average', 'salary', 'for', 'a', 'professional', 'with', 'an', 'ai', 'certification', 'is', '$', '110k', 'a', 'year', 'in', 'the', 'u.s.', 'growing', 'adoption', ',', 'increased', 'demand', 'for', 'certified', 'professionals', ',', 'and', 'substantial', 'salaries', 'make', 'a', 'move', 'into', 'ai', 'a', 'wise', 'choice', 'for', 'someone', 'interested', 'in', 'this', 'career', 'field', '.', 'ai', 'interview', 'questions', 'for', 'those', 'moving', 'into', 'the', 'ai', 'domain', 'whether', 'you', '’', 're', 'considering', 'a', 'career', 'move', 'into', 'the', 'ai', 'domain', ',', 'or', 'you', '’', 're', 'already', 'there', 'and', 'want', 'to', 'move', 'up', 'the', 'career', 'ladder', ',', 'the', 'future', 'looks', 'bright', '.', 'however', ',', 'there', 'are', 'also', 'plenty', 'of', 'other', 'professionals', 'who', 'will', 'recognize', 'the', 'opportunities', 'and', 'move', 'into', 'the', 'field', '.', 'to', 'position', 'yourself', 'for', 'success', 'as', 'a', 'job', 'candidate', 'who', 'stands', 'out', 'from', 'the', 'crowd', ',', 'you', 'should', 'be', 'pursuing', 'certifications', 'in', 'ai', ',', 'as', 'well', 'as', 'preparing', 'ahead', 'of', 'time', 'for', 'crucial', 'job', 'ai', 'interview', 'questions', '.', 'once', 'you', '’', 've', 'lined', 'up', 'a', 'job', 'interview', 'with', 'a', 'potential', 'employer', ',', 'you', '’', 'll', 'have', 'an', 'opportunity', 'to', 'study', 'that', 'particular', 'organization', 'and', 'its', 'use', 'of', 'ai', '.', 'that', 'can', 'help', 'you', 'to', 'prepare', 'for', 'specific', 'artificial', 'intelligence', 'interview', 'questions', 'relevant', 'to', 'that', 'employer', '.', 'until', 'then', ',', 'you', 'can', 'make', 'for', 'more', 'general', 'artificial', 'intelligence', 'interview', 'questions', 'by', 'knowing', 'how', 'to', 'demonstrate', 'your', 'broader', 'knowledge', 'of', 'the', 'implications', 'and', 'applications', 'of', 'ai', '.', 'the', '11', 'questions', 'and', 'answers', 'below', 'will', 'help', '.', 'artificial', 'intelligence', 'career', 'guide', 'a', 'guide', 'to', 'becoming', 'an', 'ai', 'expert', 'download', 'guide', '1.', 'what', 'are', 'the', 'common', 'uses', 'and', 'applications', 'of', 'ai', '?', 'your', 'answer', 'here', 'should', 'show', 'that', 'you', 'recognize', 'the', 'far-reaching', 'and', 'practical', 'applications', 'of', 'ai', '.', 'still', ',', 'your', 'answer', 'is', 'up', 'to', 'you', 'because', 'of', 'your', 'understanding', 'of', 'the', 'ai', 'field', 'is', 'what', 'the', 'interviewer', 'is', 'trying', 'to', 'ascertain', '.', 'if', 'possible', ',', 'mention', 'those', 'uses', 'most', 'relevant', 'to', 'the', 'potential', 'employer', '.', 'possibilities', 'include', 'contract', 'analysis', ',', 'object', 'detection', ',', 'and', 'classification', 'for', 'avoidance', 'and', 'navigation', ',', 'image', 'recognition', ',', 'content', 'distribution', ',', 'predictive', 'maintenance', ',', 'data', 'processing', ',', 'automation', 'of', 'manual', 'tasks', ',', 'or', 'data-driven', 'reporting', '.', '2.', 'what', 'are', 'intelligent', 'agents', ',', 'and', 'how', 'are', 'they', 'used', 'in', 'ai', '?', 'intelligent', 'agents', 'are', 'autonomous', 'entities', 'that', 'use', 'sensors', 'to', 'know', 'what', 'is', 'going', 'on', ',', 'and', 'then', 'use', 'actuators', 'to', 'perform', 'their', 'tasks', 'or', 'goals', '.', 'they', 'can', 'be', 'simple', 'or', 'complex', 'and', 'can', 'be', 'programmed', 'to', 'learn', 'to', 'accomplish', 'their', 'jobs', 'better', '.', '3.', 'what', 'is', 'tensorflow', ',', 'and', 'what', 'is', 'it', 'used', 'for', '?', 'tensorflow', 'is', 'an', 'open-source', 'software', 'library', 'initially', 'developed', 'by', 'the', 'google', 'brain', 'team', 'for', 'use', 'in', 'machine', 'learning', 'and', 'neural', 'networks', 'research', '.', 'it', 'is', 'used', 'for', 'data-flow', 'programming', '.', 'tensorflow', 'makes', 'it', 'much', 'easier', 'to', 'build', 'certain', 'ai', 'features', 'into', 'applications', ',', 'including', 'natural', 'language', 'processing', 'and', 'speech', 'recognition', '.', '4.', 'what', 'is', 'machine', 'learning', ',', 'and', 'how', 'does', 'it', 'relate', 'to', 'ai', '?', 'machine', 'learning', 'is', 'a', 'subset', 'of', 'ai', '.', 'the', 'idea', 'is', 'that', 'machines', 'will', '“', 'learn', '”', 'and', 'get', 'better', 'at', 'tasks', 'over', 'time', 'rather', 'than', 'having', 'humans', 'continually', 'having', 'to', 'input', 'parameters', '.', 'machine', 'learning', 'is', 'a', 'practical', 'application', 'of', 'ai', '.', '5.', 'what', 'are', 'neural', 'networks', ',', 'and', 'how', 'do', 'they', 'relate', 'to', 'ai', '?', 'neural', 'networks', 'are', 'a', 'class', 'of', 'machine', 'learning', 'algorithms', '.', 'the', 'neuron', 'part', 'of', 'neural', 'is', 'the', 'computational', 'component', ',', 'and', 'the', 'network', 'part', 'is', 'how', 'the', 'neurons', 'are', 'connected', '.', 'neural', 'networks', 'pass', 'data', 'among', 'themselves', ',', 'gathering', 'more', 'and', 'more', 'meaning', 'as', 'the', 'data', 'moves', 'along', '.', 'because', 'the', 'networks', 'are', 'interconnected', ',', 'more', 'complex', 'data', 'can', 'be', 'processed', 'more', 'efficiently', '.', 'master', 'deep', 'learning', ',', 'machine', 'learning', ',', 'and', 'other', 'programming', 'languages', 'with', 'the', 'artificial', 'intelligence', 'engineer', 'master', '’', 's', 'program', '.', '6.', 'what', 'is', 'deep', 'learning', ',', 'and', 'how', 'does', 'it', 'relate', 'to', 'ai', '?', 'deep', 'learning', 'is', 'a', 'subset', 'of', 'machine', 'learning', '.', 'it', 'refers', 'to', 'using', 'multi-layered', 'neural', 'networks', 'to', 'process', 'data', 'in', 'increasingly', 'sophisticated', 'ways', ',', 'enabling', 'the', 'software', 'to', 'train', 'itself', 'to', 'perform', 'tasks', 'like', 'speech', 'and', 'image', 'recognition', 'through', 'exposure', 'to', 'these', 'vast', 'amounts', 'of', 'data', 'for', 'continual', 'improvement', 'in', 'the', 'ability', 'to', 'recognize', 'and', 'process', 'information', '.', 'layers', 'of', 'neural', 'networks', 'stacked', 'on', 'top', 'of', 'each', 'for', 'use', 'in', 'deep', 'learning', 'are', 'called', 'deep', 'neural', 'networks', '.', '7.', 'why', 'is', 'image', 'recognition', 'a', 'key', 'function', 'of', 'ai', '?', 'humans', 'are', 'visual', ',', 'and', 'ai', 'is', 'designed', 'to', 'emulate', 'human', 'brains', '.', 'therefore', ',', 'teaching', 'machines', 'to', 'recognize', 'and', 'categorize', 'images', 'is', 'a', 'crucial', 'part', 'of', 'ai', '.', 'image', 'recognition', 'also', 'helps', 'machines', 'to', 'learn', '(', 'as', 'in', 'machine', 'learning', ')', 'because', 'the', 'more', 'images', 'that', 'are', 'processed', ',', 'the', 'better', 'the', 'software', 'gets', 'at', 'recognizing', 'and', 'processing', 'those', 'images', '.', '8.', 'what', 'is', 'automatic', 'programming', '?', 'automatic', 'programming', 'is', 'describing', 'what', 'a', 'program', 'should', 'do', ',', 'and', 'then', 'having', 'the', 'ai', 'system', '“', 'write', '”', 'the', 'program', '.', '9.', 'what', 'is', 'a', 'bayesian', 'network', ',', 'and', 'how', 'does', 'it', 'relate', 'to', 'ai', '?', 'a', 'bayesian', 'network', 'is', 'a', 'graphical', 'model', 'for', 'probabilistic', 'relationships', 'among', 'a', 'set', 'of', 'variables', '.', 'it', 'mimics', 'the', 'human', 'brain', 'in', 'processing', 'variables', '.', '10.', 'what', 'is', 'constraint', 'satisfaction', 'problems', '?', 'constraint', 'satisfaction', 'problems', '(', 'csps', ')', 'are', 'mathematical', 'problems', 'defined', 'as', 'a', 'set', 'of', 'objects', ',', 'the', 'state', 'of', 'which', 'must', 'meet', 'several', 'constraints', '.', 'csps', 'are', 'useful', 'for', 'ai', 'because', 'the', 'regularity', 'of', 'their', 'formulation', 'offers', 'commonality', 'for', 'analyzing', 'and', 'solving', 'problems', '.', '11.', 'what', 'is', 'supervised', 'versus', 'unsupervised', 'learning', '?', 'supervised', 'learning', 'is', 'a', 'machine', 'learning', 'process', 'in', 'which', 'outputs', 'are', 'fed', 'back', 'into', 'a', 'computer', 'for', 'the', 'software', 'to', 'learn', 'from', ',', 'for', 'more', 'accurate', 'results', 'the', 'next', 'time', '.', 'with', 'supervised', 'learning', ',', 'the', '“', 'machine', '”', 'receives', 'initial', 'training', 'to', 'start', '.', 'in', 'contrast', ',', 'unsupervised', 'learning', 'means', 'a', 'computer', 'will', 'learn', 'without', 'initial', 'training', 'to', 'base', 'its', 'knowledge', '.', 'artificial', 'intelligence', 'engineer', 'to', 'begin', 'a', 'successful', 'career', 'in', 'ai', 'view', 'course', 'how', 'to', 'ace', 'ai', 'job', 'interviews', 'artificial', 'intelligence', 'learns', ',', 'in', 'part', ',', 'using', '“', 'if-then', '”', 'rules', ',', 'so', 'if', 'you', '’', 're', 'not', 'sure', 'your', 'ai', 'education', 'is', 'at', 'the', 'level', 'it', 'should', 'be', 'before', 'you', 'start', 'job', 'hunting', ',', 'then', 'consider', 'pursuing', 'certification', 'in', 'ai', 'or', 'even', 'a', 'masters', 'program', 'that', 'can', 'prepare', 'you', 'for', 'a', 'career', 'as', 'an', 'artificial', 'intelligence', 'engineer', '.', 'with', 'the', 'right', 'program', ',', 'learning', 'can', 'be', 'done', 'on', 'your', 'own', 'time', ',', 'yet', 'provide', 'you', 'with', 'plenty', 'of', 'hands-on', 'experience', 'you', 'can', 'talk', 'about', 'in', 'your', 'ai', 'job', 'interview', '.']\n"
     ]
    }
   ],
   "source": [
    "#Create a function to return a list of lemmat\n",
    "def LemNormalize(text):\n",
    "    return nltk.word_tokenize(text.lower().translate(remove_punct_dict))\n",
    "\n",
    "#printing the tokenizations text\n",
    "print(LemNormalize(text))\n",
    "    "
   ]
  },
  {
   "cell_type": "code",
   "execution_count": 24,
   "metadata": {},
   "outputs": [],
   "source": [
    "#keyword maching \n",
    "#greeting inputs\n",
    "GREETING_INPUTS=[\"HEI\", \"Hello\",\"hola\",\"Wassup\",\"hey\"]\n",
    "\n",
    "#Greeting responses\n",
    "GREETING_RESPONSES=[\"Howdy\",\"Hello\",\"Hey there\" \"whats up\" ]\n",
    "\n",
    "#function for a random greeting \n",
    "def greeting(sentence): \n",
    "    \n",
    "   #if the users input is a greeting, then return a randomly chosen greeting response\n",
    "   for word in sentence.split (): \n",
    "        if word .lowert() in GREETING_INPUTS: \n",
    "            return random.choice(GREETING_RESPONSES)\n"
   ]
  },
  {
   "cell_type": "code",
   "execution_count": 27,
   "metadata": {},
   "outputs": [
    {
     "ename": "NameError",
     "evalue": "name 'user_response' is not defined",
     "output_type": "error",
     "traceback": [
      "\u001b[1;31m---------------------------------------------------------------------------\u001b[0m",
      "\u001b[1;31mNameError\u001b[0m                                 Traceback (most recent call last)",
      "\u001b[1;32m<ipython-input-27-5dd63d1ea6e9>\u001b[0m in \u001b[0;36m<module>\u001b[1;34m\u001b[0m\n\u001b[0;32m      5\u001b[0m  \u001b[0muser_response\u001b[0m\u001b[1;33m=\u001b[0m \u001b[1;34m'what is AI'\u001b[0m\u001b[1;33m\u001b[0m\u001b[1;33m\u001b[0m\u001b[0m\n\u001b[0;32m      6\u001b[0m \u001b[1;33m\u001b[0m\u001b[0m\n\u001b[1;32m----> 7\u001b[1;33m \u001b[0muser_response\u001b[0m\u001b[1;33m=\u001b[0m \u001b[0muser_response\u001b[0m\u001b[1;33m.\u001b[0m\u001b[0mlower\u001b[0m\u001b[1;33m(\u001b[0m\u001b[1;33m)\u001b[0m\u001b[1;33m\u001b[0m\u001b[1;33m\u001b[0m\u001b[0m\n\u001b[0m\u001b[0;32m      8\u001b[0m \u001b[1;33m\u001b[0m\u001b[0m\n\u001b[0;32m      9\u001b[0m \u001b[0mprint\u001b[0m\u001b[1;33m(\u001b[0m\u001b[0muser_response\u001b[0m\u001b[1;33m)\u001b[0m\u001b[1;33m\u001b[0m\u001b[1;33m\u001b[0m\u001b[0m\n",
      "\u001b[1;31mNameError\u001b[0m: name 'user_response' is not defined"
     ]
    }
   ],
   "source": [
    "#generate the response\n",
    "def response(user_response): \n",
    "\n",
    "#the users response\n",
    " user_response= 'what is AI'\n",
    "\n",
    "user_response= user_response.lower() \n",
    "\n",
    "print(user_response)\n",
    "#Set the chatbot response to an empty string \n",
    "\n",
    "robo_response =''\n",
    "#Append the users response to the sentence list\n",
    "sent_tokens.append(user_response)\n",
    "\n",
    "###print the sentence list after appending the users response \n",
    "print(sent_tokens)\n",
    "#Create a Tfidfverktorizer Object\n",
    "TfidfVec = TfidfVectorizer(tokenizer = LemNormalize, stop_words='english')\n",
    "\n",
    "#convert a text to a metrics \n",
    "tfidf=TfidfVec.fit_transform(sent_tokens)\n",
    "\n",
    "###print the tfidf features\n",
    "print(tfidf)\n",
    "\n",
    "##get the measure of similiarty (similiarity scores )\n",
    "vals= cosine_similarity(tfidf[-1], tfidf)\n",
    "#print the similiarity scores\n",
    "print(vals)\n",
    "\n",
    "#get the index of the most similiar text to the users response \n",
    "idx= vals.argsort() [0][-2]\n",
    "\n",
    "\n",
    "#Reduce the dimensionality of vals \n",
    "flat=vals.flatten()\n",
    "\n",
    "#sort the list and ascending order\n",
    "flat.sort()\n",
    "\n",
    "#Get the most similiar score to the users response \n",
    "score = flat[-2]\n",
    "\n",
    "#print the similarity score \n",
    "print(score)\n",
    "#If the variable 'score' is 0 then there is no text similiar to the users response\n",
    "if (score == 0):\n",
    "    robo_response = robo_response+\"I apologize, i don't understand\"\n",
    "else:\n",
    "    robo_response = robo_response+sent_tokens[idx]\n",
    "    \n",
    "#print the chatbot response\n",
    "print(robo_response)\n",
    "       \n",
    "sent_tokens.remove(user_response)\n",
    "\n",
    "\n"
   ]
  },
  {
   "cell_type": "code",
   "execution_count": 28,
   "metadata": {},
   "outputs": [
    {
     "ename": "NameError",
     "evalue": "name 'user_response' is not defined",
     "output_type": "error",
     "traceback": [
      "\u001b[1;31m---------------------------------------------------------------------------\u001b[0m",
      "\u001b[1;31mNameError\u001b[0m                                 Traceback (most recent call last)",
      "\u001b[1;32m<ipython-input-28-4ef900be8abd>\u001b[0m in \u001b[0;36m<module>\u001b[1;34m\u001b[0m\n\u001b[1;32m----> 1\u001b[1;33m \u001b[0msent_tokens\u001b[0m\u001b[1;33m.\u001b[0m\u001b[0mremove\u001b[0m\u001b[1;33m(\u001b[0m\u001b[0muser_response\u001b[0m\u001b[1;33m)\u001b[0m\u001b[1;33m\u001b[0m\u001b[1;33m\u001b[0m\u001b[0m\n\u001b[0m",
      "\u001b[1;31mNameError\u001b[0m: name 'user_response' is not defined"
     ]
    }
   ],
   "source": [
    "sent_tokens.remove(user_response)"
   ]
  },
  {
   "cell_type": "code",
   "execution_count": 30,
   "metadata": {},
   "outputs": [
    {
     "ename": "IndentationError",
     "evalue": "unindent does not match any outer indentation level (<tokenize>, line 8)",
     "output_type": "error",
     "traceback": [
      "\u001b[1;36m  File \u001b[1;32m\"<tokenize>\"\u001b[1;36m, line \u001b[1;32m8\u001b[0m\n\u001b[1;33m    if(user_response=='thanks' or user_response == 'thank you'):\u001b[0m\n\u001b[1;37m    ^\u001b[0m\n\u001b[1;31mIndentationError\u001b[0m\u001b[1;31m:\u001b[0m unindent does not match any outer indentation level\n"
     ]
    }
   ],
   "source": [
    "flag=True\n",
    "print(\"I am doctor bot for docbot. if you have any questions about Ai\")\n",
    "while(flag==True):\n",
    "    user_response=input()\n",
    "    user_response=user_response.lower()\n",
    "    if(user_response!='bye')\n",
    "   \n",
    " if(user_response=='thanks' or user_response == 'thank you'): \n",
    "        flag=False\n",
    "        print(\"Docbot:you are welcome\")\n",
    "    print()\n",
    "    else:\n",
    "        flag=False\n",
    "        print(\"Docbot: Chat with you later!\")"
   ]
  },
  {
   "cell_type": "code",
   "execution_count": null,
   "metadata": {},
   "outputs": [],
   "source": []
  },
  {
   "cell_type": "code",
   "execution_count": null,
   "metadata": {},
   "outputs": [],
   "source": []
  },
  {
   "cell_type": "code",
   "execution_count": null,
   "metadata": {},
   "outputs": [],
   "source": []
  },
  {
   "cell_type": "code",
   "execution_count": null,
   "metadata": {},
   "outputs": [],
   "source": []
  },
  {
   "cell_type": "code",
   "execution_count": null,
   "metadata": {},
   "outputs": [],
   "source": []
  },
  {
   "cell_type": "code",
   "execution_count": null,
   "metadata": {},
   "outputs": [],
   "source": []
  },
  {
   "cell_type": "code",
   "execution_count": null,
   "metadata": {},
   "outputs": [],
   "source": []
  }
 ],
 "metadata": {
  "kernelspec": {
   "display_name": "Python 3",
   "language": "python",
   "name": "python3"
  },
  "language_info": {
   "codemirror_mode": {
    "name": "ipython",
    "version": 3
   },
   "file_extension": ".py",
   "mimetype": "text/x-python",
   "name": "python",
   "nbconvert_exporter": "python",
   "pygments_lexer": "ipython3",
   "version": "3.7.6"
  }
 },
 "nbformat": 4,
 "nbformat_minor": 4
}
